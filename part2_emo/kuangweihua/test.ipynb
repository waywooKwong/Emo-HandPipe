{
 "cells": [
  {
   "cell_type": "code",
   "execution_count": null,
   "metadata": {},
   "outputs": [],
   "source": [
    "!pip install deepface\n",
    "!pip install mediapipe\n",
    "!pip install cv2\n",
    "!pip install json\n"
   ]
  },
  {
   "cell_type": "code",
   "execution_count": 1,
   "metadata": {},
   "outputs": [
    {
     "name": "stdout",
     "output_type": "stream",
     "text": [
      "WARNING:tensorflow:From c:\\Dev\\Python\\venvs\\work\\lib\\site-packages\\tf_keras\\src\\losses.py:2976: The name tf.losses.sparse_softmax_cross_entropy is deprecated. Please use tf.compat.v1.losses.sparse_softmax_cross_entropy instead.\n",
      "\n"
     ]
    }
   ],
   "source": [
    "from deepface import DeepFace\n",
    "import mediapipe\n",
    "import cv2\n",
    "import json"
   ]
  },
  {
   "cell_type": "code",
   "execution_count": 6,
   "metadata": {},
   "outputs": [],
   "source": [
    "image_path = \"E:\\Emo-HandPipe\\emo\\kuangweihua\\\\test.jpg\""
   ]
  },
  {
   "cell_type": "markdown",
   "metadata": {},
   "source": [
    "注意下面的 DeepFace.analyze 的参数:\n",
    "1. img_path 是图片路径\n",
    "2. actions 是属性，可以指定多个属性，比如 [\"emotion\", \"age\", \"gender\", \"race\", \"glasses\"]\n",
    "3. detector_backend 是检测器，可以指定多个检测器，比如 [\"opencv\", \"mediapipe\"]\n",
    "\n",
    "可以指定 mediapipe!\n",
    "但是... mediapipe 甚至识别不出来人脸，说明 opencv 效果更好\n"
   ]
  },
  {
   "cell_type": "code",
   "execution_count": 8,
   "metadata": {},
   "outputs": [],
   "source": [
    "attributes = [\"emotion\", \"age\", \"gender\", \"race\", \"glasses\"]\n",
    "emo_info = DeepFace.analyze(\n",
    "    img_path=image_path, actions=\"emotion\", detector_backend=\"opencv\"\n",
    ")"
   ]
  },
  {
   "cell_type": "code",
   "execution_count": 9,
   "metadata": {},
   "outputs": [
    {
     "name": "stdout",
     "output_type": "stream",
     "text": [
      "[{'emotion': {'angry': 21.90648466348648, 'disgust': 0.00012038199201924726, 'fear': 9.604186564683914, 'happy': 0.013911332644056529, 'sad': 60.31089425086975, 'surprise': 0.012167597014922649, 'neutral': 8.15223976969719}, 'dominant_emotion': 'sad', 'region': {'x': 821, 'y': 435, 'w': 389, 'h': 389, 'left_eye': (1093, 578), 'right_eye': (931, 580)}, 'face_confidence': 0.9}]\n"
     ]
    }
   ],
   "source": [
    "print(emo_info)"
   ]
  }
 ],
 "metadata": {
  "kernelspec": {
   "display_name": "work",
   "language": "python",
   "name": "python3"
  },
  "language_info": {
   "codemirror_mode": {
    "name": "ipython",
    "version": 3
   },
   "file_extension": ".py",
   "mimetype": "text/x-python",
   "name": "python",
   "nbconvert_exporter": "python",
   "pygments_lexer": "ipython3",
   "version": "3.9.13"
  }
 },
 "nbformat": 4,
 "nbformat_minor": 2
}
